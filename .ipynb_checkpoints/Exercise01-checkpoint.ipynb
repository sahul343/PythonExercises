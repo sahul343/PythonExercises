{
 "cells": [
  {
   "cell_type": "code",
   "execution_count": 2,
   "metadata": {},
   "outputs": [],
   "source": [
    "'''\n",
    "    Write a program to check whether a number is even or not\n",
    "    \n",
    "    eg: 42 -> Even, 5090103 -> Odd\n",
    "'''"
   ]
  },
  {
   "cell_type": "code",
   "execution_count": 14,
   "metadata": {},
   "outputs": [],
   "source": [
    "'''\n",
    "    Write a program to check if a given string is a palindrome or not\n",
    "    \n",
    "    palindromic string: A string which is same whether it is read from the left or from the right\n",
    "    eg: abba, abueeuba, abzba, lkkl, mouuom, malayalam, binanib, afeefa, yooy\n",
    "'''"
   ]
  },
  {
   "cell_type": "code",
   "execution_count": 19,
   "metadata": {},
   "outputs": [],
   "source": [
    "'''\n",
    "    Write a program to check if a given number is a palindrome or not\n",
    "    \n",
    "    palindromic number: The digits of the number are same whether we see it from the left or from the right\n",
    "    eg: 12321, 515, 43334, 121, 1234554321\n",
    "'''"
   ]
  },
  {
   "cell_type": "code",
   "execution_count": 33,
   "metadata": {},
   "outputs": [],
   "source": [
    "'''\n",
    "    Write a program for checking the speed of drivers. This function should have one parameter: speed.\n",
    "\n",
    "    If speed is less than 70, it should print “Ok”.\n",
    "    Otherwise, for every 5km above the speed limit (70), it should give the driver one demerit point and print the total number of demerit points. For example, if the speed is 80, it should print: “Points: 2”.\n",
    "    If the driver gets more than 12 points, the function should print: \"license suspended!\"\n",
    "    otherwise print \"license under warning!\"\n",
    "'''"
   ]
  },
  {
   "cell_type": "code",
   "execution_count": 51,
   "metadata": {},
   "outputs": [],
   "source": [
    "'''\n",
    "    Write a program called show_stars(rows). If rows is 5, it should print the following:\n",
    "\n",
    "\n",
    "    *\n",
    "    **\n",
    "    ***\n",
    "    ****\n",
    "    *****\n",
    "    \n",
    "    TIPS : Does print() produce a newline by default?!\n",
    "'''"
   ]
  },
  {
   "cell_type": "code",
   "execution_count": 53,
   "metadata": {},
   "outputs": [],
   "source": [
    "'''\n",
    "    Write a program to remove all the blank spaces in a string\n",
    "'''"
   ]
  },
  {
   "cell_type": "code",
   "execution_count": 73,
   "metadata": {},
   "outputs": [],
   "source": [
    "'''\n",
    "    Write a program to print the nth fibonacci number\n",
    "    \n",
    "    The nth Fibonacci number is defined as follows: -\n",
    "    \n",
    "    fib(0) = 0\n",
    "    fib(1) = 1\n",
    "    fib(n) = fib(n - 1) + fib(n - 2), for n >= 2\n",
    "\n",
    "'''"
   ]
  },
  {
   "cell_type": "code",
   "execution_count": 78,
   "metadata": {},
   "outputs": [],
   "source": [
    "'''\n",
    "    Write a program to compute the area of a circle given the radius 'r'\n",
    "    (take pi = 3.14)\n",
    "'''"
   ]
  },
  {
   "cell_type": "code",
   "execution_count": 80,
   "metadata": {},
   "outputs": [],
   "source": [
    "'''\n",
    "    write a program to rotate an array by one element in right->left fashion\n",
    "    eg: i/p = [1,2,3,4,5]\n",
    "        o/p = [2,3,4,5,1]\n",
    "'''"
   ]
  },
  {
   "cell_type": "code",
   "execution_count": 82,
   "metadata": {},
   "outputs": [],
   "source": [
    "'''\n",
    "    Write a python program to print all the non negative numbers in a range [start,end) for an input\n",
    "    array arr of numbers\n",
    "'''"
   ]
  },
  {
   "cell_type": "code",
   "execution_count": 92,
   "metadata": {},
   "outputs": [],
   "source": [
    "'''\n",
    "    Write a program to print an inverted star pattern for an input count\n",
    "\n",
    "    eg.\n",
    "    for count = 4\n",
    "        ****\n",
    "         ***\n",
    "          **\n",
    "           *\n",
    "'''"
   ]
  },
  {
   "cell_type": "code",
   "execution_count": 103,
   "metadata": {},
   "outputs": [],
   "source": [
    "'''\n",
    "    Write a program to check if a given number is a wow number\n",
    "    \n",
    "    -> A wow number is a number whose sum of digits is equal to the number itself: A \"Yaseen\" Definition\n",
    "'''"
   ]
  },
  {
   "cell_type": "code",
   "execution_count": 98,
   "metadata": {},
   "outputs": [],
   "source": [
    "'''\n",
    "    Write a program to check whether a number is an armstrong number or not\n",
    "    \n",
    "    -> Armstrong number: Armstrong number is a number that is equal to the sum of cubes of its digits.\n",
    "'''"
   ]
  },
  {
   "cell_type": "code",
   "execution_count": 2,
   "metadata": {},
   "outputs": [],
   "source": [
    "\"\"\"\n",
    "    Write a program to give a the set of vowels present in the input string in lowercase\n",
    "\n",
    "    eg: - Feefa -> {a, e}\n",
    "        - UnionSet -> {e, i, o, u}\n",
    "        - Codejam -> {a, e, o}\n",
    "        - MaximumFlow -> {a, i, o, u}\n",
    "        - Markov -> {a, o}\n",
    "\n",
    "\"\"\""
   ]
  },
  {
   "cell_type": "code",
   "execution_count": null,
   "metadata": {},
   "outputs": [],
   "source": []
  }
 ],
 "metadata": {
  "kernelspec": {
   "display_name": "Python 3",
   "language": "python",
   "name": "python3"
  },
  "language_info": {
   "codemirror_mode": {
    "name": "ipython",
    "version": 3
   },
   "file_extension": ".py",
   "mimetype": "text/x-python",
   "name": "python",
   "nbconvert_exporter": "python",
   "pygments_lexer": "ipython3",
   "version": "3.6.5"
  }
 },
 "nbformat": 4,
 "nbformat_minor": 2
}
