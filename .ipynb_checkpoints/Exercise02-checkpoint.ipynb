{
 "cells": [
  {
   "cell_type": "markdown",
   "metadata": {},
   "source": [
    "# Exercises\n",
    "\n",
    "- Complete the following functions \n",
    "- Do this if you know about python functions"
   ]
  },
  {
   "cell_type": "code",
   "execution_count": 3,
   "metadata": {},
   "outputs": [],
   "source": [
    "def add(a, b):\n",
    "    \"\"\"\n",
    "        return the sum of a and b\n",
    "        \n",
    "        eg: add(3, 4) -> 7\n",
    "    \"\"\"\n",
    "    pass"
   ]
  },
  {
   "cell_type": "code",
   "execution_count": 8,
   "metadata": {},
   "outputs": [],
   "source": [
    "def isPrime(a):\n",
    "    \"\"\"\n",
    "        return True if a is prime number otherwise False\n",
    "        \n",
    "        eg: \n",
    "            - isPrime(343) = False\n",
    "            - isPrime(17) = True\n",
    "            - isPrime(500) = False\n",
    "            - isPrime(1501) = True\n",
    "    \"\"\"\n",
    "     pass"
   ]
  },
  {
   "cell_type": "code",
   "execution_count": 1,
   "metadata": {},
   "outputs": [],
   "source": [
    "def num_a(s):\n",
    "    \"\"\"\n",
    "        return number of \"a\" (without quotes) in string s\n",
    "        \n",
    "        eg: num_a(\"aaaeeeaaaa\") = 7\n",
    "            num_a(\"aba\") = 2\n",
    "            num_a(\"sahul\") = 1\n",
    "    \"\"\"\n",
    "    pass"
   ]
  },
  {
   "cell_type": "code",
   "execution_count": 18,
   "metadata": {},
   "outputs": [],
   "source": [
    "def findMedian(a):\n",
    "    \"\"\"\n",
    "        a is list of numbers, from it return the median value\n",
    "        \n",
    "        eg: findMedian([5, 1, 3]) = 3\n",
    "            findMedian([5, 3, 5, 2]) = 2.5\n",
    "    \"\"\"\n",
    "    pass"
   ]
  },
  {
   "cell_type": "code",
   "execution_count": 12,
   "metadata": {},
   "outputs": [],
   "source": [
    "def findMode(a):\n",
    "    \"\"\"\n",
    "        a is list of numbers, from it return the mode value\n",
    "        \n",
    "        Imp: If there are multiple modes, then return any one of them\n",
    "        \n",
    "        eg: findMode([1, 1, 1, 3]) = 1\n",
    "            findMode([2, 2, 3, 3]) => you may output 2 or 3\n",
    "    \"\"\"\n",
    "    pass"
   ]
  },
  {
   "cell_type": "code",
   "execution_count": 22,
   "metadata": {},
   "outputs": [],
   "source": [
    "def find_num_abc(a):\n",
    "    \"\"\"\n",
    "        From string a find number of substrings \"abc\"(Without Quotes) in a and return the value\n",
    "        \n",
    "            (substring: A substring is a contiguous sequence of characters within a string.\n",
    "            Example of a substring: s = \"def\"\n",
    "            substrings of s are: \"d\",\"e\",\"f\",\"de\",\"ef\",\"def\")\n",
    "            \n",
    "        eg: abcuuuuuabcefabc => 3\n",
    "            abababababababvv => 0\n",
    "            ababcevlk        => 1\n",
    "    \"\"\"\n",
    "    pass"
   ]
  },
  {
   "cell_type": "code",
   "execution_count": 38,
   "metadata": {},
   "outputs": [],
   "source": [
    "def find_plus_pattern_simple_2dMat(a):\n",
    "    \"\"\"\n",
    "        mathematic definition: -\n",
    "        \n",
    "        If at any (i, j): a[i][j], a[i - 1][j], a[i + 1][j], a[i][j - 1], a[i][j + 1] \n",
    "        have this '.' character, then return True else return False\n",
    "        \n",
    "        eg: 1) [\".......\",\n",
    "                \".......\",\n",
    "                \".......\"] => True\n",
    "                \n",
    "            2) [\" . \",\n",
    "                \"...\",\n",
    "                \" . \"]     => True\n",
    "                \n",
    "            3) [\"...\",\n",
    "                \"...\"]     => False\n",
    "                \n",
    "            4) [\"..\",\n",
    "                \". \",\n",
    "                \" .\"]      => False\n",
    "    \"\"\"\n",
    "    pass"
   ]
  },
  {
   "cell_type": "code",
   "execution_count": 11,
   "metadata": {},
   "outputs": [],
   "source": [
    "def num_subarray_with_neg_product(a):\n",
    "    \"\"\"\n",
    "        - Find the number subarrays which have negative product\n",
    "        - Try to do it in <= 3 nested loops\n",
    "        \n",
    "        definition: -\n",
    "            subarray is a contiguous sequence of elements within a list.\n",
    "        \n",
    "        1) [-1, -1, 1] => 3 (reason: [-1], [-1]. [-1, 1])\n",
    "        2) [1, -20, 1] => 3 (reason: [1, -20], [-20, 1], [1, -20, 1])\n",
    "         \n",
    "    \"\"\"\n",
    "    pass"
   ]
  },
  {
   "cell_type": "code",
   "execution_count": 26,
   "metadata": {},
   "outputs": [],
   "source": [
    "def num_subarray_with_neg_product_faster(a):\n",
    "    \"\"\"\n",
    "        - Do the above question in <= 2 nested loops\n",
    "    \"\"\"\n",
    "    pass"
   ]
  },
  {
   "cell_type": "code",
   "execution_count": 32,
   "metadata": {},
   "outputs": [],
   "source": [
    "def check_if_game_won_tictactoe(a):\n",
    "    \"\"\"\n",
    "        Check if anyone won the game (not draw), and return True if so, else return False\n",
    "        \n",
    "        eg: [xox,\n",
    "             oxo,\n",
    "             xox] => False\n",
    "            [oxo,\n",
    "             xox\n",
    "             xxo] => True (because o won)\n",
    "            [xox,\n",
    "             xoo,\n",
    "             xox] => True (because x won)\n",
    "    \"\"\"\n",
    "    pass"
   ]
  },
  {
   "cell_type": "code",
   "execution_count": 47,
   "metadata": {},
   "outputs": [],
   "source": [
    "def check_for_subsequence_abc(a):\n",
    "    \"\"\"\n",
    "        - Check if \"abc\" exists as a subsequence in a\n",
    "        - Return True if it is present else False\n",
    "        \n",
    "        subsequence: A subsequence is a sequence that can be derived from another sequence by deleting some or \n",
    "        no elements without changing the order of the remaining elements\n",
    "        \n",
    "        \n",
    "        eg: \"abeeec\" => True\n",
    "            \"aeeeeebeeuuuc\" => True\n",
    "    \"\"\"\n",
    "    pass"
   ]
  },
  {
   "cell_type": "markdown",
   "metadata": {},
   "source": [
    "#### All Defintions have been taken from Wikipedia"
   ]
  }
 ],
 "metadata": {
  "kernelspec": {
   "display_name": "Python 3",
   "language": "python",
   "name": "python3"
  },
  "language_info": {
   "codemirror_mode": {
    "name": "ipython",
    "version": 3
   },
   "file_extension": ".py",
   "mimetype": "text/x-python",
   "name": "python",
   "nbconvert_exporter": "python",
   "pygments_lexer": "ipython3",
   "version": "3.6.5"
  }
 },
 "nbformat": 4,
 "nbformat_minor": 2
}
