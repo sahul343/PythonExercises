{
 "cells": [
  {
   "cell_type": "markdown",
   "metadata": {},
   "source": [
    "# Exercises\n",
    "Complete the following functions "
   ]
  },
  {
   "cell_type": "code",
   "execution_count": 3,
   "metadata": {},
   "outputs": [],
   "source": [
    "def add(a, b):\n",
    "    \"\"\"\n",
    "        return the sum of a and b\n",
    "    \"\"\"\n",
    "    pass"
   ]
  },
  {
   "cell_type": "code",
   "execution_count": 4,
   "metadata": {},
   "outputs": [],
   "source": [
    "assert(add(3, 4) == 7)\n",
    "assert(add(5, 5) == 10)\n",
    "assert(add(1, 959) == 960)\n",
    "assert(add(5401, 4598) == 9999)\n",
    "assert(add(5000000, 5000000) == 10000000)"
   ]
  },
  {
   "cell_type": "code",
   "execution_count": 8,
   "metadata": {},
   "outputs": [],
   "source": [
    "def isPrime(a):\n",
    "    \"\"\"\n",
    "        return True if a is prime number otherwise False \n",
    "    \"\"\"\n",
    "     pass"
   ]
  },
  {
   "cell_type": "code",
   "execution_count": 16,
   "metadata": {},
   "outputs": [],
   "source": [
    "assert(isPrime(42) == False)\n",
    "assert(isPrime(100) == False)\n",
    "assert(isPrime(7) == True)\n",
    "assert(isPrime(7529) == True)\n",
    "assert(isPrime(69102) == False)"
   ]
  },
  {
   "cell_type": "code",
   "execution_count": 1,
   "metadata": {},
   "outputs": [],
   "source": [
    "def num_a(s):\n",
    "    \"\"\"\n",
    "        return number of \"a\" (without quotes) in string s\n",
    "    \"\"\"\n",
    "    pass"
   ]
  },
  {
   "cell_type": "code",
   "execution_count": 29,
   "metadata": {},
   "outputs": [
    {
     "data": {
      "text/plain": [
       "40"
      ]
     },
     "execution_count": 29,
     "metadata": {},
     "output_type": "execute_result"
    }
   ],
   "source": [
    "assert(num_a(\"abababa\") == 4)\n",
    "assert(num_a(\"abababaabababaababababababaaabababaabababaabababaabababababaabaabababa\") == 40)"
   ]
  },
  {
   "cell_type": "code",
   "execution_count": 18,
   "metadata": {},
   "outputs": [],
   "source": [
    "def findMedian(a):\n",
    "    \"\"\"\n",
    "        a is list of numbers, from it return the median value\n",
    "    \"\"\"\n",
    "    pass"
   ]
  },
  {
   "cell_type": "code",
   "execution_count": 19,
   "metadata": {},
   "outputs": [],
   "source": [
    "assert(findMedian([5, 1, 3]) == 3)\n",
    "assert(findMedian([5, 5, 1, 3]) == 4)\n",
    "assert(findMedian([12, 41, 15, 15, 123, 621, 2134, 512, 901, 234, 2354, 3251, 2134213]) == 512)\n",
    "assert(abs(findMedian([0.12, 4.1, 11.5, 15.5, 123, 62.1, 2134, 5.12, 90.1, 21.34, 2354, 3251, 213.4213]) - 62.1) < eps)"
   ]
  },
  {
   "cell_type": "code",
   "execution_count": 12,
   "metadata": {},
   "outputs": [],
   "source": [
    "def findMode(a):\n",
    "    \"\"\"\n",
    "        a is list of numbers, from it return the mode value\n",
    "    \"\"\"\n",
    "    pass"
   ]
  },
  {
   "cell_type": "code",
   "execution_count": 17,
   "metadata": {},
   "outputs": [],
   "source": [
    "assert(findMode([1, 1, 1, 1, 1, 4, 4, 4, 5, 5]) == 1)\n",
    "assert(findMode([2, 1, 1, 1, 3, 3, 3, 5, 8, 11, 90, 400, 400]) in {1, 3})\n",
    "assert(findMode([1, 1, 3, 3, 9, 4, 4, 5, 6, 12, 9, 9, 123, 400, 910, 910, 4, 4, 5, 5, 7, 7, 9, 9, 1, 0, 0, 9, 9]) == 9)\n",
    "assert(findMode([1, 0, 5, 1, 7, 1, 2, 2, 2]) in {1, 2})"
   ]
  },
  {
   "cell_type": "code",
   "execution_count": 22,
   "metadata": {},
   "outputs": [],
   "source": [
    "def find_num_abc(a):\n",
    "    \"\"\"\n",
    "        From string a find number of substrings \"abc\"(Without Quotes) in a and return the value\n",
    "        \n",
    "        substring: A substring is a contiguous sequence of characters within a string.\n",
    "        Example: s = \"def\"\n",
    "        substrings of s are: \"d\",\"e\",\"f\",\"de\",\"ef\",\"def\"\n",
    "    \"\"\"\n",
    "    pass"
   ]
  },
  {
   "cell_type": "code",
   "execution_count": 36,
   "metadata": {},
   "outputs": [],
   "source": [
    "assert(find_num_abc(\"abcaabcabcabcbcabc\") == 5)\n",
    "assert(find_num_abc(\"abcdabcbabdbabcbcbcabbcabacbabcababcabcbacbabcabacbabcabcacbabchashcbacbabcuacubabc\") == 12)\n",
    "assert(find_num_abc(\"abcabcabcabcabcabcabcdabcbabdbabcbcbcabbcabacbabcuauauuauauauauaababcacbbabcabcabca\\\n",
    "bcbabcabcbacbabcabacbabcabcacbabchashcbacbabcuacubabc\") == 23)"
   ]
  },
  {
   "cell_type": "code",
   "execution_count": 38,
   "metadata": {},
   "outputs": [],
   "source": [
    "def find_plus_pattern_simple_2dMat(a):\n",
    "    \"\"\"\n",
    "        mathematic definition: -\n",
    "        \n",
    "        If at any (i, j): a[i][j], a[i - 1][j], a[i + 1][j], a[i][j - 1], a[i][j + 1] have this '.' character,\n",
    "        then return True\n",
    "        else return False\n",
    "        \n",
    "    \"\"\"\n",
    "    pass"
   ]
  },
  {
   "cell_type": "code",
   "execution_count": 45,
   "metadata": {},
   "outputs": [],
   "source": [
    "assert(find_plus_pattern_simple_2dMat([[' ','.',' '], ['.','.','.'], [' ','.',' ']]) == True)\n",
    "assert(find_plus_pattern_simple_2dMat([[' ','.',' '], ['.','.','.'], [' ',' ',' ']]) == False)\n",
    "assert(find_plus_pattern_simple_2dMat([['.','.',' '], ['.','.','.'], [' ',' ',' ']]) == False)\n",
    "assert(find_plus_pattern_simple_2dMat([['.','.',' '], ['.','.','.'], [' ','.',' '], ['.', '.', '.']]) == True)"
   ]
  },
  {
   "cell_type": "code",
   "execution_count": 11,
   "metadata": {},
   "outputs": [],
   "source": [
    "def num_subarray_with_neg_product(a):\n",
    "    \"\"\"\n",
    "        definition: -\n",
    "        - Find the number subarrays which have negative product\n",
    "        - Try to do it in <= 3 nested loops\n",
    "        \n",
    "        subarray is a contiguous sequence of elements within a list.\n",
    "        \n",
    "    \"\"\"\n",
    "    pass"
   ]
  },
  {
   "cell_type": "code",
   "execution_count": 19,
   "metadata": {},
   "outputs": [
    {
     "data": {
      "text/plain": [
       "4"
      ]
     },
     "execution_count": 19,
     "metadata": {},
     "output_type": "execute_result"
    }
   ],
   "source": [
    "assert(num_subarray_with_neg_product([0, -1, -1, -1]) == 4)\n",
    "assert(num_subarray_with_neg_product([-1e30, 123e10, -11e20, -1101010, -5e3, -2e50, 50000]) == 15)"
   ]
  },
  {
   "cell_type": "code",
   "execution_count": 26,
   "metadata": {},
   "outputs": [],
   "source": [
    "def num_subarray_with_neg_product_faster(a):\n",
    "    \"\"\"\n",
    "        - Do the above question in <= 2 nested loops\n",
    "    \"\"\"\n",
    "    pass"
   ]
  },
  {
   "cell_type": "code",
   "execution_count": 28,
   "metadata": {},
   "outputs": [],
   "source": [
    "assert(num_subarray_with_neg_product_faster([0, -1, -1, -1]) == 4)\n",
    "assert(num_subarray_with_neg_product_faster([-1e30, 123e10, -11e20, -1101010, -5e3, -2e50, 50000]) == 15)"
   ]
  },
  {
   "cell_type": "code",
   "execution_count": 32,
   "metadata": {},
   "outputs": [],
   "source": [
    "def check_if_game_won_tictactoe(a):\n",
    "    \"\"\"\n",
    "        Check if anyone won the game (not draw), and return True if so, else return False\n",
    "    \"\"\"\n",
    "    pass"
   ]
  },
  {
   "cell_type": "code",
   "execution_count": 43,
   "metadata": {},
   "outputs": [],
   "source": [
    "assert(check_if_game_over_tictactoe([\"xox\", \"oxo\", \"ooo\"]) == True)\n",
    "assert(check_if_game_over_tictactoe([\"xoo\", \"oxo\", \"xxo\"]) == True)\n",
    "assert(check_if_game_over_tictactoe([\"xox\", \"oxo\", \"xox\"]) == True)"
   ]
  },
  {
   "cell_type": "code",
   "execution_count": 47,
   "metadata": {},
   "outputs": [],
   "source": [
    "def check_for_subsequence_abc(a):\n",
    "    \"\"\"\n",
    "        - Check if \"abc\" exists as a subsequence in a\n",
    "        - Return True if it is present else False\n",
    "        \n",
    "        subsequence: A subsequence is a sequence that can be derived from another sequence by deleting some or \n",
    "        no elements without changing the order of the remaining elements\n",
    "        \n",
    "    \"\"\"\n",
    "    pass"
   ]
  },
  {
   "cell_type": "code",
   "execution_count": 50,
   "metadata": {},
   "outputs": [],
   "source": [
    "assert(check_for_subsequence_abc(\"auuuuublvedfeaasdlllllpppppp\") == False)\n",
    "assert(check_for_subsequence_abc(\"ccccccccccauuuuublvedfeaasdlllllppppppcppppppppppc\") == True)\n",
    "assert(check_for_subsequence_abc(\"cba\") == False)"
   ]
  },
  {
   "cell_type": "markdown",
   "metadata": {},
   "source": [
    "#### All Defintions have been taken from Wikipedia"
   ]
  }
 ],
 "metadata": {
  "kernelspec": {
   "display_name": "Python 3",
   "language": "python",
   "name": "python3"
  },
  "language_info": {
   "codemirror_mode": {
    "name": "ipython",
    "version": 3
   },
   "file_extension": ".py",
   "mimetype": "text/x-python",
   "name": "python",
   "nbconvert_exporter": "python",
   "pygments_lexer": "ipython3",
   "version": "3.6.5"
  }
 },
 "nbformat": 4,
 "nbformat_minor": 2
}
