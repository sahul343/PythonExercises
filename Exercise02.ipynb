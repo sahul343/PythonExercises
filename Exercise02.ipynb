{
 "cells": [
  {
   "cell_type": "code",
   "execution_count": 2,
   "metadata": {},
   "outputs": [],
   "source": [
    "'''\n",
    "    to check whether the number is even or not\n",
    "'''\n",
    "def isEven(num):\n",
    "    pass"
   ]
  },
  {
   "cell_type": "code",
   "execution_count": 3,
   "metadata": {},
   "outputs": [],
   "source": [
    "assert(isEven(458)==True)\n",
    "assert(isEven(45)==False)\n",
    "assert(isEven(8)==True)\n",
    "assert(isEven(11)==False)\n",
    "assert(isEven(-2)==True)"
   ]
  },
  {
   "cell_type": "code",
   "execution_count": 14,
   "metadata": {},
   "outputs": [],
   "source": [
    "'''\n",
    "    checks whether a string x is palindrome or not\n",
    "'''\n",
    "def isPalindrome(x):\n",
    "    pass"
   ]
  },
  {
   "cell_type": "code",
   "execution_count": 13,
   "metadata": {},
   "outputs": [],
   "source": [
    "assert(isPalindrome(\"malayalam\")==True)\n",
    "assert(isPalindrome(\"hello\")==False)\n",
    "assert(isPalindrome(\"civic\")==True)\n",
    "assert(isPalindrome(\"racecar\")==True)\n",
    "assert(isPalindrome(\"dummycar\")==False)"
   ]
  },
  {
   "cell_type": "code",
   "execution_count": 19,
   "metadata": {},
   "outputs": [],
   "source": [
    "#checks whether a positive number is a palindrome \n",
    "def isPalNum(x):\n",
    "    pass"
   ]
  },
  {
   "cell_type": "code",
   "execution_count": 23,
   "metadata": {},
   "outputs": [
    {
     "data": {
      "text/plain": [
       "True"
      ]
     },
     "execution_count": 23,
     "metadata": {},
     "output_type": "execute_result"
    }
   ],
   "source": [
    "assert(isPalNum(123321)==True)\n",
    "assert(isPalNum(1232)==False)\n",
    "assert(isPalNum(13443211234431)==True)\n",
    "assert(isPalNum(1)==True)"
   ]
  },
  {
   "cell_type": "code",
   "execution_count": 33,
   "metadata": {},
   "outputs": [],
   "source": [
    "'''\n",
    "Write a function for checking the speed of drivers. This function should have one parameter: speed.\n",
    "\n",
    "    If speed is less than 70, it should print “Ok”.\n",
    "    Otherwise, for every 5km above the speed limit (70), it should give the driver one demerit point and print the total number of demerit points. For example, if the speed is 80, it should print: “Points: 2”.\n",
    "    If the driver gets more than 12 points, the function should print: \"license suspended!\"\n",
    "    otherwise print \"license under warning!\"\n",
    "'''\n",
    "def speedRegulator(speed):\n",
    "    pass"
   ]
  },
  {
   "cell_type": "code",
   "execution_count": 36,
   "metadata": {},
   "outputs": [
    {
     "data": {
      "text/plain": [
       "'license suspended!'"
      ]
     },
     "execution_count": 36,
     "metadata": {},
     "output_type": "execute_result"
    }
   ],
   "source": [
    "assert(speedRegulator(130.5)==\"license suspended!\")\n",
    "assert(speedRegulator(45)==\"OK\")\n",
    "assert(speedRegulator(100)==\"license under warning!\")"
   ]
  },
  {
   "cell_type": "code",
   "execution_count": 51,
   "metadata": {},
   "outputs": [],
   "source": [
    "'''\n",
    "Write a function called show_stars(rows). If rows is 5, it should print the following:\n",
    "\n",
    "\n",
    "    *\n",
    "    **\n",
    "    ***\n",
    "    ****\n",
    "    *****\n",
    "    \n",
    "    TIPS : Does print() produce a newline by default?!\n",
    "'''\n",
    "def printStars(count):\n",
    "    pass"
   ]
  },
  {
   "cell_type": "code",
   "execution_count": 53,
   "metadata": {},
   "outputs": [],
   "source": [
    "'''\n",
    "Program to remove all the blank spaces in a string\n",
    "'''\n",
    "\n",
    "def removeSpace(x):\n",
    "    pass"
   ]
  },
  {
   "cell_type": "code",
   "execution_count": 57,
   "metadata": {},
   "outputs": [],
   "source": [
    "assert(removeSpace(\"I am learning python!\")==\"Iamlearningpython!\")\n",
    "assert(removeSpace(\"hello world\")==\"helloworld\")\n",
    "assert(removeSpace(\"Programming is fun!\")==\"Programmingisfun!\")"
   ]
  },
  {
   "cell_type": "code",
   "execution_count": 73,
   "metadata": {},
   "outputs": [],
   "source": [
    "#program to print fibonacci numbers from 1 to n , n being input\n",
    "\n",
    "def fibonacci(n):\n",
    "    pass"
   ]
  },
  {
   "cell_type": "code",
   "execution_count": 78,
   "metadata": {},
   "outputs": [],
   "source": [
    "#calculate the area pf a circle(real value)\n",
    "\n",
    "def areaOfCircle(radius):\n",
    "    pass"
   ]
  },
  {
   "cell_type": "code",
   "execution_count": 85,
   "metadata": {},
   "outputs": [],
   "source": [
    "assert(areaOfCircle(5)==78.5)"
   ]
  },
  {
   "cell_type": "code",
   "execution_count": 80,
   "metadata": {},
   "outputs": [],
   "source": [
    "'''\n",
    "write a program to rotate an array by one element in right->left fashion\n",
    "eg: i/p = [1,2,3,4,5]\n",
    "    o/p = [2,3,4,5,1]\n",
    "'''\n",
    "def rotateArray(x):\n",
    "    pass\n",
    "        "
   ]
  },
  {
   "cell_type": "code",
   "execution_count": 81,
   "metadata": {},
   "outputs": [
    {
     "data": {
      "text/plain": [
       "[2, 3, 4, 5, 1]"
      ]
     },
     "execution_count": 81,
     "metadata": {},
     "output_type": "execute_result"
    }
   ],
   "source": [
    "x=[1,2,3,4,5]\n",
    "rotateArray(x)"
   ]
  },
  {
   "cell_type": "code",
   "execution_count": 82,
   "metadata": {},
   "outputs": [],
   "source": [
    "'''\n",
    "python to print all the non negative numbers in a range [start,end)\n",
    "'''\n",
    "def positiveNum(start,end):\n",
    "    pass"
   ]
  },
  {
   "cell_type": "code",
   "execution_count": 92,
   "metadata": {},
   "outputs": [],
   "source": [
    "'''\n",
    "print an inverted star pattern for an input count\n",
    "\n",
    "eg.\n",
    "for count = 4\n",
    "    ****\n",
    "     ***\n",
    "      **\n",
    "       *\n",
    "'''\n",
    "def invStar(count):\n",
    "    pass"
   ]
  },
  {
   "cell_type": "code",
   "execution_count": 103,
   "metadata": {},
   "outputs": [],
   "source": [
    "'''\n",
    "    A wow number is a number whose sum of digits is equal to the number itself: A \"Yaseen\" Definition\n",
    "'''\n",
    "def isWow(x):\n",
    "    pass"
   ]
  },
  {
   "cell_type": "code",
   "execution_count": 98,
   "metadata": {},
   "outputs": [],
   "source": [
    "'''\n",
    "    - check whether a number is an armstrong number or not\n",
    "    - Armstrong number: Armstrong number is a number that is equal to the sum of cubes of its digits.\n",
    "'''\n",
    "def isArmstrong(x):\n",
    "    pass"
   ]
  },
  {
   "cell_type": "code",
   "execution_count": 2,
   "metadata": {},
   "outputs": [],
   "source": [
    "print(isArmstrong(153))\n",
    "print(isArmstrong(371))\n",
    "print(isArmstrong(123))"
   ]
  },
  {
   "cell_type": "code",
   "execution_count": 104,
   "metadata": {},
   "outputs": [],
   "source": [
    "'''\n",
    "    a function to return a the Set of vowels present in the input string\n",
    "    in lowercase\n",
    "'''\n",
    "def printVowels(str):\n",
    "    pass"
   ]
  },
  {
   "cell_type": "code",
   "execution_count": 3,
   "metadata": {},
   "outputs": [],
   "source": [
    "assert(printVowels(\"Fifa Sheesha\") == set(['a', 'e', 'i']))"
   ]
  }
 ],
 "metadata": {
  "kernelspec": {
   "display_name": "Python 3",
   "language": "python",
   "name": "python3"
  },
  "language_info": {
   "codemirror_mode": {
    "name": "ipython",
    "version": 3
   },
   "file_extension": ".py",
   "mimetype": "text/x-python",
   "name": "python",
   "nbconvert_exporter": "python",
   "pygments_lexer": "ipython3",
   "version": "3.6.5"
  }
 },
 "nbformat": 4,
 "nbformat_minor": 2
}
