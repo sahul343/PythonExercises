{
 "cells": [
  {
   "cell_type": "markdown",
   "metadata": {},
   "source": [
    "# Exercises\n",
    "\n",
    "- Complete the following functions \n",
    "- Do this if you know about python functions"
   ]
  },
  {
   "cell_type": "code",
   "execution_count": 3,
   "metadata": {},
   "outputs": [],
   "source": [
    "def add(a, b):\n",
    "    \"\"\"\n",
    "        return the sum of a and b\n",
    "    \"\"\"\n",
    "    pass"
   ]
  },
  {
   "cell_type": "code",
   "execution_count": 8,
   "metadata": {},
   "outputs": [],
   "source": [
    "def isPrime(a):\n",
    "    \"\"\"\n",
    "        return True if a is prime number otherwise False \n",
    "    \"\"\"\n",
    "     pass"
   ]
  },
  {
   "cell_type": "code",
   "execution_count": 1,
   "metadata": {},
   "outputs": [],
   "source": [
    "def num_a(s):\n",
    "    \"\"\"\n",
    "        return number of \"a\" (without quotes) in string s\n",
    "    \"\"\"\n",
    "    pass"
   ]
  },
  {
   "cell_type": "code",
   "execution_count": 18,
   "metadata": {},
   "outputs": [],
   "source": [
    "def findMedian(a):\n",
    "    \"\"\"\n",
    "        a is list of numbers, from it return the median value\n",
    "    \"\"\"\n",
    "    pass"
   ]
  },
  {
   "cell_type": "code",
   "execution_count": 12,
   "metadata": {},
   "outputs": [],
   "source": [
    "def findMode(a):\n",
    "    \"\"\"\n",
    "        a is list of numbers, from it return the mode value\n",
    "    \"\"\"\n",
    "    pass"
   ]
  },
  {
   "cell_type": "code",
   "execution_count": 22,
   "metadata": {},
   "outputs": [],
   "source": [
    "def find_num_abc(a):\n",
    "    \"\"\"\n",
    "        From string a find number of substrings \"abc\"(Without Quotes) in a and return the value\n",
    "        \n",
    "        substring: A substring is a contiguous sequence of characters within a string.\n",
    "        Example: s = \"def\"\n",
    "        substrings of s are: \"d\",\"e\",\"f\",\"de\",\"ef\",\"def\"\n",
    "    \"\"\"\n",
    "    pass"
   ]
  },
  {
   "cell_type": "code",
   "execution_count": 38,
   "metadata": {},
   "outputs": [],
   "source": [
    "def find_plus_pattern_simple_2dMat(a):\n",
    "    \"\"\"\n",
    "        mathematic definition: -\n",
    "        \n",
    "        If at any (i, j): a[i][j], a[i - 1][j], a[i + 1][j], a[i][j - 1], a[i][j + 1] have this '.' character,\n",
    "        then return True\n",
    "        else return False\n",
    "        \n",
    "    \"\"\"\n",
    "    pass"
   ]
  },
  {
   "cell_type": "code",
   "execution_count": 11,
   "metadata": {},
   "outputs": [],
   "source": [
    "def num_subarray_with_neg_product(a):\n",
    "    \"\"\"\n",
    "        definition: -\n",
    "        - Find the number subarrays which have negative product\n",
    "        - Try to do it in <= 3 nested loops\n",
    "        \n",
    "        subarray is a contiguous sequence of elements within a list.\n",
    "        \n",
    "    \"\"\"\n",
    "    pass"
   ]
  },
  {
   "cell_type": "code",
   "execution_count": 26,
   "metadata": {},
   "outputs": [],
   "source": [
    "def num_subarray_with_neg_product_faster(a):\n",
    "    \"\"\"\n",
    "        - Do the above question in <= 2 nested loops\n",
    "    \"\"\"\n",
    "    pass"
   ]
  },
  {
   "cell_type": "code",
   "execution_count": 32,
   "metadata": {},
   "outputs": [],
   "source": [
    "def check_if_game_won_tictactoe(a):\n",
    "    \"\"\"\n",
    "        Check if anyone won the game (not draw), and return True if so, else return False\n",
    "    \"\"\"\n",
    "    pass"
   ]
  },
  {
   "cell_type": "code",
   "execution_count": 47,
   "metadata": {},
   "outputs": [],
   "source": [
    "def check_for_subsequence_abc(a):\n",
    "    \"\"\"\n",
    "        - Check if \"abc\" exists as a subsequence in a\n",
    "        - Return True if it is present else False\n",
    "        \n",
    "        subsequence: A subsequence is a sequence that can be derived from another sequence by deleting some or \n",
    "        no elements without changing the order of the remaining elements\n",
    "        \n",
    "    \"\"\"\n",
    "    pass"
   ]
  },
  {
   "cell_type": "markdown",
   "metadata": {},
   "source": [
    "#### All Defintions have been taken from Wikipedia"
   ]
  }
 ],
 "metadata": {
  "kernelspec": {
   "display_name": "Python 3",
   "language": "python",
   "name": "python3"
  },
  "language_info": {
   "codemirror_mode": {
    "name": "ipython",
    "version": 3
   },
   "file_extension": ".py",
   "mimetype": "text/x-python",
   "name": "python",
   "nbconvert_exporter": "python",
   "pygments_lexer": "ipython3",
   "version": "3.6.5"
  }
 },
 "nbformat": 4,
 "nbformat_minor": 2
}
